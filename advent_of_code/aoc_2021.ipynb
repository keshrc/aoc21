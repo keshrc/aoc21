{
 "cells": [
  {
   "cell_type": "code",
   "execution_count": 2,
   "metadata": {},
   "outputs": [],
   "source": [
    "import pandas as pd\n",
    "import numpy as np\n",
    "import re"
   ]
  },
  {
   "cell_type": "code",
   "execution_count": 96,
   "metadata": {},
   "outputs": [],
   "source": [
    "def get_data(day:int)->list:\n",
    "\n",
    "    data = []\n",
    "    f = open(f'data/data{day}.txt', 'r')\n",
    "    for line in f:\n",
    "        data.append(line)\n",
    "    data = [i.replace('\\n','') for i in data]\n",
    "    return data\n"
   ]
  },
  {
   "cell_type": "markdown",
   "metadata": {},
   "source": [
    "# DAY 1"
   ]
  },
  {
   "cell_type": "code",
   "execution_count": 295,
   "metadata": {},
   "outputs": [
    {
     "data": {
      "text/plain": [
       "1226"
      ]
     },
     "execution_count": 295,
     "metadata": {},
     "output_type": "execute_result"
    }
   ],
   "source": [
    "#1\n",
    "data = [int(i) for i in get_data(day=1)]\n",
    "\n",
    "def compare_if_increased(data:list)->list:\n",
    "    '''\n",
    "    if the value in a list is higher than the prev value then return inc, else return idk\n",
    "    '''\n",
    "    res = []\n",
    "    for i in range(len(data)-1):\n",
    "        if data[i] < data[i+1]:\n",
    "            res.append('inc')\n",
    "        else:\n",
    "            res.append('idk')\n",
    "            \n",
    "    return res\n",
    "\n",
    "res = compare_if_increased(data)\n",
    "res.count('inc')"
   ]
  },
  {
   "cell_type": "code",
   "execution_count": 296,
   "metadata": {},
   "outputs": [
    {
     "data": {
      "text/plain": [
       "1252"
      ]
     },
     "execution_count": 296,
     "metadata": {},
     "output_type": "execute_result"
    }
   ],
   "source": [
    "#2\n",
    "data3 = pd.Series(data).rolling(3).sum().dropna().values\n",
    "res = compare_if_increased(data3)\n",
    "res.count('inc')"
   ]
  },
  {
   "cell_type": "markdown",
   "metadata": {},
   "source": [
    "# DAY 2"
   ]
  },
  {
   "cell_type": "code",
   "execution_count": 24,
   "metadata": {},
   "outputs": [
    {
     "data": {
      "text/plain": [
       "1804520"
      ]
     },
     "execution_count": 24,
     "metadata": {},
     "output_type": "execute_result"
    }
   ],
   "source": [
    "#1\n",
    "data=get_data(day=2)\n",
    "\n",
    "def get_int_from_string(string):\n",
    "    i = ''.join(x for x in string if x.isdigit())\n",
    "    return int(i)\n",
    "    \n",
    "fw = [get_int_from_string(i) for i in data if 'forward' in i]\n",
    "up = [get_int_from_string(i) for i in data if 'up' in i]\n",
    "dn = [get_int_from_string(i) for i in data if 'down' in i]\n",
    "\n",
    "(sum(dn) - sum(up)) * sum(fw)"
   ]
  },
  {
   "cell_type": "code",
   "execution_count": 25,
   "metadata": {},
   "outputs": [
    {
     "data": {
      "text/plain": [
       "1971095320"
      ]
     },
     "execution_count": 25,
     "metadata": {},
     "output_type": "execute_result"
    }
   ],
   "source": [
    "#2\n",
    "h = 0\n",
    "aim = 0\n",
    "d = 0\n",
    "\n",
    "for i in data:\n",
    "    if 'forward' in i:\n",
    "        i = get_int_from_string(i)\n",
    "        h += i\n",
    "        d += i*aim\n",
    "    elif 'down' in i:   \n",
    "\n",
    "        aim += get_int_from_string(i)\n",
    "    elif 'up' in i:    \n",
    "        aim -= get_int_from_string(i)\n",
    "h * d"
   ]
  },
  {
   "cell_type": "markdown",
   "metadata": {},
   "source": [
    "# DAY 3"
   ]
  },
  {
   "cell_type": "code",
   "execution_count": 109,
   "metadata": {},
   "outputs": [
    {
     "data": {
      "text/plain": [
       "1307354"
      ]
     },
     "execution_count": 109,
     "metadata": {},
     "output_type": "execute_result"
    }
   ],
   "source": [
    "#1\n",
    "data = get_data(day=3)\n",
    "df = pd.DataFrame([[i for i in char] for char in data])\n",
    "\n",
    "mode = df.mode().values[0]\n",
    "gr_bit = ''.join(mode)\n",
    "er_bit = ''.join(['1' if i =='0' else '0' for i in mode])\n",
    "\n",
    "int(er_bit,2) * int(gr_bit,2)\n"
   ]
  },
  {
   "cell_type": "code",
   "execution_count": 110,
   "metadata": {},
   "outputs": [
    {
     "data": {
      "text/plain": [
       "482500"
      ]
     },
     "execution_count": 110,
     "metadata": {},
     "output_type": "execute_result"
    }
   ],
   "source": [
    "#2\n",
    "def get_rating(data, method):\n",
    "    keep = data.copy()\n",
    "    n = len(keep)\n",
    "    for i in range(12):\n",
    "        k_ = keep.mode()[i].fillna('-1').max()\n",
    "        if method =='mode':\n",
    "            k = k_\n",
    "        else:\n",
    "            k = str(abs(int(k_)-1))\n",
    "        keep = keep.loc[keep[i] == k, :]\n",
    "        n = len(keep)\n",
    "        if n ==1: break\n",
    "    return ''.join(keep.values[0])\n",
    "\n",
    "    \n",
    "o2 = get_rating(df, method='mode')\n",
    "co2 = get_rating(df, method='notmode')\n",
    "\n",
    "int(o2,2) * int(co2,2)"
   ]
  },
  {
   "cell_type": "markdown",
   "metadata": {},
   "source": [
    "# DAY 4"
   ]
  },
  {
   "cell_type": "code",
   "execution_count": 299,
   "metadata": {},
   "outputs": [
    {
     "name": "stdout",
     "output_type": "stream",
     "text": [
      "BOARD 11 ROW ['49' '69' '76' '98' '22'] WINS AFTER 22 NUMBERS\n"
     ]
    },
    {
     "data": {
      "text/plain": [
       "23177"
      ]
     },
     "execution_count": 299,
     "metadata": {},
     "output_type": "execute_result"
    }
   ],
   "source": [
    "#1\n",
    "data = get_data(day=4)\n",
    "\n",
    "def get_bingo_nums(data):\n",
    "    nums = data.pop(0).split(',')\n",
    "    while True: \n",
    "        try:\n",
    "            data.remove('')\n",
    "        except: break\n",
    "    return nums, data\n",
    "\n",
    "def get_bingo_boards(board_data):\n",
    "    boards = {}\n",
    "    for i in range(100):\n",
    "        l = []\n",
    "        for _ in range(5):\n",
    "            r = board_data.pop(0).split(' ')\n",
    "            while True: \n",
    "                try:\n",
    "                    r.remove('')\n",
    "                except: break\n",
    "            l.append(r)\n",
    "        boards[str(i)] = {'board' : pd.DataFrame(l)}\n",
    "    return boards\n",
    "\n",
    "def make_bingo(data):\n",
    "    \n",
    "    nums, board_data = get_bingo_nums(data)\n",
    "    boards = get_bingo_boards(board_data)\n",
    "    \n",
    "    return nums, boards\n",
    "\n",
    "def run_bingo(nums, boards):\n",
    "    winner = []\n",
    "    numbers_called = []\n",
    "    for n in nums:\n",
    "        numbers_called.append(n)\n",
    "        for i in boards.keys():\n",
    "            # check if any rows have all values:\n",
    "            for row in boards[i]['board'].values:\n",
    "                if len(set(row).intersection(numbers_called)) == 5:\n",
    "                    winner = boards[i]['board']\n",
    "                    print(f'BOARD {i} ROW {row } WINS AFTER {len(numbers_called)} NUMBERS')\n",
    "                    return winner, numbers_called\n",
    "                    break\n",
    "            #check if any columns have all values\n",
    "            for col in boards[i]['board']:\n",
    "                if len(set(boards[i]['board'][col]).intersection(numbers_called)) == 5:\n",
    "                    winner = boards[i]['board']\n",
    "                    print(f'BOARD {i} COLUMN {col} WINS AFTER {len(numbers_called)} NUMBERS')\n",
    "                    return winner, numbers_called\n",
    "                    break\n",
    "\n",
    "def get_bingo_score(winner, numbers_called):\n",
    "    winner_flat = [int(i) for i in winner.values.flatten()]\n",
    "    marked = set(winner_flat).intersection(set([int(i) for i in numbers_called]))\n",
    "    return (sum(winner_flat)-sum(marked)) * int(numbers_called[-1])\n",
    "\n",
    "nums, boards = make_bingo(data)\n",
    "winner, numbers_called = run_bingo(nums, boards)\n",
    "get_bingo_score(winner, numbers_called)"
   ]
  },
  {
   "cell_type": "code",
   "execution_count": 307,
   "metadata": {},
   "outputs": [
    {
     "name": "stdout",
     "output_type": "stream",
     "text": [
      "BOARD 59 ROW ['67' '70' '14' '77' '86'] LOSES AFTER 87 NUMBERS\n"
     ]
    },
    {
     "data": {
      "text/plain": [
       "6804"
      ]
     },
     "execution_count": 307,
     "metadata": {},
     "output_type": "execute_result"
    }
   ],
   "source": [
    "#2\n",
    "def run_bingo_loser(nums, boards):\n",
    "    winner = []\n",
    "    winners=[]\n",
    "    numbers_called = []\n",
    "    for n in nums:\n",
    "        numbers_called.append(n)\n",
    "        for i in boards.keys():\n",
    "            # check if any rows have all values:\n",
    "            for row in boards[i]['board'].values:\n",
    "                if len(set(row).intersection(numbers_called)) == 5:\n",
    "                    winner = boards[i]['board']\n",
    "                    winners.append(i)\n",
    "            #check if any columns have all values\n",
    "            for col in boards[i]['board']:\n",
    "                if len(set(boards[i]['board'][col]).intersection(numbers_called)) == 5:\n",
    "                    winner = boards[i]['board']\n",
    "                    winners.append(i)\n",
    "            if len(set(winners)) == 100:\n",
    "                print(f'BOARD {i} ROW {row } LOSES AFTER {len(numbers_called)} NUMBERS')\n",
    "                return winner, numbers_called, winners\n",
    "                \n",
    "loser, numbers_called, winners = run_bingo_loser(nums, boards)\n",
    "get_bingo_score(loser, numbers_called)"
   ]
  },
  {
   "cell_type": "markdown",
   "metadata": {},
   "source": [
    "# DAY 5"
   ]
  },
  {
   "cell_type": "code",
   "execution_count": 157,
   "metadata": {},
   "outputs": [
    {
     "data": {
      "text/plain": [
       "7438"
      ]
     },
     "execution_count": 157,
     "metadata": {},
     "output_type": "execute_result"
    }
   ],
   "source": [
    "#1\n",
    "data = get_data(day=5)\n",
    "\n",
    "cols = ['x1','y1','x2','y2']\n",
    "df = pd.DataFrame(data=[re.split(' -> |,',i) for i in data], columns=cols).astype(int)\n",
    "\n",
    "\n",
    "def get_grid(n):\n",
    "    grid = [[0 for x in range(n)] for i in range(n)]\n",
    "    return grid\n",
    "\n",
    "def get_horizontal_vertical_only(df):\n",
    "    #only consider horizontal or vertical movements\n",
    "    dfy = df.loc[(df.x1 == df.x2), :].copy()\n",
    "    dfx = df.loc[(df.y1 == df.y2), :].copy()\n",
    "    return {'x': dfx, 'y': dfy}\n",
    "\n",
    "def populate_grid(df):\n",
    "    dfs = get_horizontal_vertical_only(df)\n",
    "    grid = get_grid(1000)\n",
    "    \n",
    "    for key in dfs.keys():\n",
    "        for row in range(len(dfs[key])):\n",
    "            line = dfs[key].iloc[row]\n",
    "            start = min(line[f'{key}1'], line[f'{key}2'])\n",
    "            stop = max(line[f'{key}1'], line[f'{key}2'])\n",
    "            \n",
    "            if key == 'x':\n",
    "                p = line['y1'] \n",
    "                for i in range(start, stop+1):\n",
    "                    grid[p][i] += 1\n",
    "            if key == 'y':\n",
    "                p = line['x1']\n",
    "                for i in range(start,stop+1):\n",
    "                    grid[i][p] += 1           \n",
    "    return grid\n",
    "\n",
    "grid = populate_grid(df)\n",
    "np.count_nonzero(np.array(grid) >= 2)"
   ]
  },
  {
   "cell_type": "code",
   "execution_count": 158,
   "metadata": {},
   "outputs": [
    {
     "data": {
      "text/plain": [
       "21406"
      ]
     },
     "execution_count": 158,
     "metadata": {},
     "output_type": "execute_result"
    }
   ],
   "source": [
    "#2\n",
    "def get_diag(df):\n",
    "    #only consider horizontal or vertical movements\n",
    "    return  df.loc[(df.x1 != df.x2) & (df.y1 != df.y2) , :].copy()\n",
    "\n",
    "def populate_grid_diag(df, grid):\n",
    "    dfd = get_diag(df)\n",
    "    for row in range(len(dfd)):\n",
    "        line = dfd.iloc[row]\n",
    "\n",
    "        vals = {'x':None, 'y':None}\n",
    "        for key in vals.keys():\n",
    "            if line[key+'1'] < line[key+'2']:\n",
    "                vals[key] = range(line[key+'1'], line[key+'2'] +1)\n",
    "            else: \n",
    "                vals[key] = range(line[key+'1'], line[key+'2']-1, -1)\n",
    "        \n",
    "        for n in range(len(vals['x'])):\n",
    "            grid[vals['y'][n]][vals['x'][n]] +=1\n",
    "\n",
    "    return grid\n",
    "\n",
    "\n",
    "grid_diag = populate_grid_diag(df, grid)\n",
    "np.count_nonzero(np.array(grid_diag) >= 2)"
   ]
  },
  {
   "cell_type": "markdown",
   "metadata": {},
   "source": [
    "# DAY 6"
   ]
  },
  {
   "cell_type": "code",
   "execution_count": 159,
   "metadata": {},
   "outputs": [],
   "source": [
    "#1\n",
    "data = get_data(day=6)\n",
    "\n",
    "\n"
   ]
  },
  {
   "cell_type": "code",
   "execution_count": null,
   "metadata": {},
   "outputs": [],
   "source": []
  }
 ],
 "metadata": {
  "interpreter": {
   "hash": "20217754c3e7a17b3f4ebee9f826a01cb79988447300a4f87b8d29308a8a9bf0"
  },
  "kernelspec": {
   "display_name": "Python 3.8.8 64-bit ('advent-of-code-n6jRcwR0-py3.8': poetry)",
   "language": "python",
   "name": "python3"
  },
  "language_info": {
   "codemirror_mode": {
    "name": "ipython",
    "version": 3
   },
   "file_extension": ".py",
   "mimetype": "text/x-python",
   "name": "python",
   "nbconvert_exporter": "python",
   "pygments_lexer": "ipython3",
   "version": "3.8.8"
  },
  "orig_nbformat": 4
 },
 "nbformat": 4,
 "nbformat_minor": 2
}
